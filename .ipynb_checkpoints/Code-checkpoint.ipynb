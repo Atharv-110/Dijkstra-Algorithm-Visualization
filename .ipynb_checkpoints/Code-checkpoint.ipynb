{
 "cells": [
  {
   "cell_type": "markdown",
   "id": "324ca6e5",
   "metadata": {},
   "source": [
    "# Dijkstra Algorithm Visualization Project\n",
    "Dijkstra algorithm is a single-source shortest path algorithm. Here, single-source means that only one source is given, and we have to find the shortest path from the source to all the nodes."
   ]
  },
  {
   "cell_type": "markdown",
   "id": "96404eaa",
   "metadata": {},
   "source": [
    "### Importing Libraries\n",
    "- Tkinter is used for GUI creation\n",
    "    - Tk have messagebox which helps in creation message box\n",
    "- pygame helps in designing the video games\n",
    "- used to manipulate different parts of the Python runtime environment"
   ]
  },
  {
   "cell_type": "code",
   "execution_count": 1,
   "id": "c85e3bb4",
   "metadata": {},
   "outputs": [
    {
     "name": "stdout",
     "output_type": "stream",
     "text": [
      "pygame 2.1.2 (SDL 2.0.18, Python 3.10.2)\n",
      "Hello from the pygame community. https://www.pygame.org/contribute.html\n"
     ]
    }
   ],
   "source": [
    "from tkinter import messagebox, Tk \n",
    "import pygame\n",
    "import sys"
   ]
  },
  {
   "cell_type": "code",
   "execution_count": null,
   "id": "f293a6d4",
   "metadata": {},
   "outputs": [],
   "source": [
    "pygame.display.set_caption('Dijkstra Algorithm Visualization')"
   ]
  },
  {
   "cell_type": "code",
   "execution_count": 2,
   "id": "ff3f1fa7",
   "metadata": {},
   "outputs": [],
   "source": [
    "win_width = 750 \n",
    "win_height = 750\n",
    "\n",
    "window = pygame.display.set_mode((win_width, win_height))\n",
    "\n",
    "cols = 25\n",
    "rows = 25\n",
    "\n",
    "box_width = win_width // cols\n",
    "box_height = win_height // rows\n",
    "\n",
    "grid = []\n",
    "queue = []\n",
    "path = []"
   ]
  },
  {
   "cell_type": "code",
   "execution_count": 3,
   "id": "faef8c15",
   "metadata": {},
   "outputs": [],
   "source": [
    "class Box:\n",
    "    def __init__(self, i, j):\n",
    "        self.x = i\n",
    "        self.y = j\n",
    "        self.start = False\n",
    "        self.wall = False\n",
    "        self.target = False\n",
    "        self.queued = False\n",
    "        self.visited = False\n",
    "        self.neighbours = []\n",
    "        self.prior = None\n",
    "\n",
    "    def draw(self, win, color):\n",
    "        pygame.draw.rect(win, color, (self.x * box_width, self.y * box_height, box_width -2, box_height -2))\n",
    "\n",
    "    def set_neighbours(self):\n",
    "        if self.x > 0:\n",
    "            self.neighbours.append(grid[self.x - 1][self.y])\n",
    "        if self.x < cols - 1:\n",
    "            self.neighbours.append(grid[self.x + 1][self.y])\n",
    "        if self.y > 0:\n",
    "            self.neighbours.append(grid[self.x][self.y - 1])\n",
    "        if self.y < rows - 1:\n",
    "            self.neighbours.append(grid[self.x][self.y + 1])"
   ]
  },
  {
   "cell_type": "code",
   "execution_count": 4,
   "id": "618eba20",
   "metadata": {},
   "outputs": [],
   "source": [
    "#create grid\n",
    "for i in range(cols):\n",
    "    arr = []\n",
    "    for j in range(rows):\n",
    "        arr.append(Box(i, j))\n",
    "    grid.append(arr)\n",
    "\n",
    "#set neighbours\n",
    "for i in range(cols):\n",
    "    for j in range(rows):\n",
    "        grid[i][j].set_neighbours()\n",
    "\n",
    "start_box = grid[0][0]\n",
    "start_box.start = True\n",
    "start_box.visited = True\n",
    "queue.append(start_box)"
   ]
  },
  {
   "cell_type": "code",
   "execution_count": 5,
   "id": "b658d18e",
   "metadata": {},
   "outputs": [
    {
     "ename": "SystemExit",
     "evalue": "",
     "output_type": "error",
     "traceback": [
      "An exception has occurred, use %tb to see the full traceback.\n",
      "\u001b[1;31mSystemExit\u001b[0m\n"
     ]
    },
    {
     "name": "stderr",
     "output_type": "stream",
     "text": [
      "C:\\Python310\\lib\\site-packages\\IPython\\core\\interactiveshell.py:3406: UserWarning: To exit: use 'exit', 'quit', or Ctrl-D.\n",
      "  warn(\"To exit: use 'exit', 'quit', or Ctrl-D.\", stacklevel=1)\n"
     ]
    }
   ],
   "source": [
    "def main():\n",
    "    begin_search = False\n",
    "    target_box_set = False\n",
    "    searching = True\n",
    "    target_box = None\n",
    "\n",
    "    while True:\n",
    "        for event in pygame.event.get():\n",
    "            if event.type == pygame.QUIT:\n",
    "                pygame.quit()\n",
    "                sys.exit()\n",
    "            \n",
    "            #mouse controlls\n",
    "            elif event.type == pygame.MOUSEMOTION:\n",
    "                x = pygame.mouse.get_pos()[0]\n",
    "                y = pygame.mouse.get_pos()[1]\n",
    "                # Draw wall\n",
    "                if event.buttons[0]:\n",
    "                    i = x // box_width\n",
    "                    j = y // box_height\n",
    "                    grid[i][j].wall = True\n",
    "                #set target\n",
    "                if event.buttons[2] and not target_box_set:\n",
    "                    i = x // box_width\n",
    "                    j = y // box_height\n",
    "                    target_box = grid[i][j]\n",
    "                    target_box.target = True\n",
    "                    target_box_set = True\n",
    "            \n",
    "            # start algorithm\n",
    "            if event.type == pygame.KEYDOWN and target_box_set:\n",
    "                begin_search = True\n",
    "\n",
    "        if begin_search:\n",
    "            if len(queue) > 0 and searching:\n",
    "                current_box = queue.pop(0)\n",
    "                current_box.visited = True\n",
    "                if current_box == target_box:\n",
    "                    searching = False\n",
    "                    while current_box.prior != start_box:\n",
    "                        path.append(current_box.prior)\n",
    "                        current_box = current_box.prior\n",
    "                else:\n",
    "                    for neighbour in current_box.neighbours:\n",
    "                        if not neighbour.queued and not neighbour.wall:\n",
    "                            neighbour.queued = True\n",
    "                            neighbour.prior = current_box\n",
    "                            queue.append(neighbour)\n",
    "            else:\n",
    "                if searching:\n",
    "                    Tk().wm_withdraw()\n",
    "                    messagebox.showinfo(\"No Solution\", \"There is no solution!\")\n",
    "                    searching = False\n",
    "\n",
    "        window.fill((0, 0, 0))\n",
    "\n",
    "        for i in range(cols):\n",
    "            for j in range(rows):\n",
    "                box = grid[i][j]\n",
    "                box.draw(window,(20,20,20))\n",
    "\n",
    "                if box.queued:\n",
    "                    box.draw(window,(200,0,0))\n",
    "                if box.visited:\n",
    "                    box.draw(window,(0,200,0))\n",
    "\n",
    "                if box in path:\n",
    "                    box.draw(window,(0,0,200))\n",
    "\n",
    "                if box.start:\n",
    "                    box.draw(window,(0,200,200))\n",
    "                if box.wall:\n",
    "                    box.draw(window,(90,90,90))\n",
    "                if box.target:\n",
    "                    box.draw(window,(200,200,0))\n",
    "\n",
    "        pygame.display.flip()\n",
    "\n",
    "main()"
   ]
  }
 ],
 "metadata": {
  "kernelspec": {
   "display_name": "Python 3 (ipykernel)",
   "language": "python",
   "name": "python3"
  },
  "language_info": {
   "codemirror_mode": {
    "name": "ipython",
    "version": 3
   },
   "file_extension": ".py",
   "mimetype": "text/x-python",
   "name": "python",
   "nbconvert_exporter": "python",
   "pygments_lexer": "ipython3",
   "version": "3.10.2"
  }
 },
 "nbformat": 4,
 "nbformat_minor": 5
}
